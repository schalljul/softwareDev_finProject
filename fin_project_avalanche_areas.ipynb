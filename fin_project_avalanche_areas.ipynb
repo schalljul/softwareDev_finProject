{
 "cells": [
  {
   "cell_type": "code",
   "execution_count": 1,
   "id": "0403a235",
   "metadata": {},
   "outputs": [
    {
     "data": {
      "text/plain": [
       "0"
      ]
     },
     "execution_count": 1,
     "metadata": {},
     "output_type": "execute_result"
    }
   ],
   "source": [
    "import os\n",
    "from osgeo import gdal\n",
    "#from PIL import Image\n",
    "#from IPython.display import display\n",
    "#import matplotlib.pyplot as plt\n",
    "\n",
    "##calculate slope in degree with scale in meters\n",
    "cmd1 = \"gdaldem slope testdata.tif ./results/slope-deg.tif -s 111120\"\n",
    "os.system(cmd1)\n",
    "\n",
    "##calculate slope with angles ranging from 28 to 54 degrees\n",
    "cmd2 = 'gdal_calc.py --calc=\"A*logical_and(A>=28,A<=54)\" --outfile=./results/slope_relevant.tif -A slope-deg.tif --NoDataValue=0'\n",
    "os.system(cmd2)\n",
    "\n",
    "##calculate aspect\n",
    "cmd3 = \"gdaldem aspect testdata.tif ./results/aspect.tif -trigonometric -zero_for_flat\"\n",
    "os.system(cmd3)"
   ]
  }
 ],
 "metadata": {
  "kernelspec": {
   "display_name": "Python 3 (ipykernel)",
   "language": "python",
   "name": "python3"
  },
  "language_info": {
   "codemirror_mode": {
    "name": "ipython",
    "version": 3
   },
   "file_extension": ".py",
   "mimetype": "text/x-python",
   "name": "python",
   "nbconvert_exporter": "python",
   "pygments_lexer": "ipython3",
   "version": "3.9.12"
  }
 },
 "nbformat": 4,
 "nbformat_minor": 5
}
