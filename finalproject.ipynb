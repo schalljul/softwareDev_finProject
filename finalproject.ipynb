{
 "cells": [
  {
   "cell_type": "code",
   "execution_count": 1,
   "id": "e62d0721",
   "metadata": {},
   "outputs": [],
   "source": [
    "import os\n",
    "from osgeo import gdal\n",
    "import richdem as rd\n",
    "from osgeo import ogr\n",
    "\n",
    "import numpy as np\n",
    "import rasterio\n",
    "import rasterstats\n",
    "import matplotlib\n",
    "import geopandas as gpd\n",
    "import fiona\n",
    "\n",
    "import richdem as rd\n",
    "import rioxarray as rxr\n",
    "import matplotlib.pyplot as plt\n",
    "\n",
    "from rasterstats import zonal_stats\n",
    "from rasterio.plot import show_hist\n",
    "from shapely.ops import cascaded_union\n",
    "from shapely.geometry import shape\n",
    "from shapely.geometry import box\n",
    "\n",
    "#For advanced \"print\" options (printmd)\n",
    "from IPython.display import Markdown, display\n",
    "def printmd(string):\n",
    "    display(Markdown(string))\n",
    "    \n",
    "\n"
   ]
  },
  {
   "cell_type": "code",
   "execution_count": 2,
   "id": "45863fcd",
   "metadata": {},
   "outputs": [
    {
     "name": "stdout",
     "output_type": "stream",
     "text": [
      "['C:\\\\Users\\\\julia\\\\Downloads\\\\softwareDev_finProject-main(2)\\\\softwareDev_finProject-main', 'C:\\\\Users\\\\julia\\\\anaconda3\\\\envs\\\\finalproject1\\\\python310.zip', 'C:\\\\Users\\\\julia\\\\anaconda3\\\\envs\\\\finalproject1\\\\DLLs', 'C:\\\\Users\\\\julia\\\\anaconda3\\\\envs\\\\finalproject1\\\\lib', 'C:\\\\Users\\\\julia\\\\anaconda3\\\\envs\\\\finalproject1', '', 'C:\\\\Users\\\\julia\\\\anaconda3\\\\envs\\\\finalproject1\\\\lib\\\\site-packages', 'C:\\\\Users\\\\julia\\\\anaconda3\\\\envs\\\\finalproject1\\\\lib\\\\site-packages\\\\win32', 'C:\\\\Users\\\\julia\\\\anaconda3\\\\envs\\\\finalproject1\\\\lib\\\\site-packages\\\\win32\\\\lib', 'C:\\\\Users\\\\julia\\\\anaconda3\\\\envs\\\\finalproject1\\\\lib\\\\site-packages\\\\Pythonwin']\n"
     ]
    }
   ],
   "source": [
    "import sys\n",
    "print(sys.path)"
   ]
  },
  {
   "cell_type": "code",
   "execution_count": 3,
   "id": "b28174e1",
   "metadata": {},
   "outputs": [],
   "source": [
    "## reproject crs from testdata\n",
    "input_raster = gdal.Open('testdata.tif')\n",
    "output_raster = './results/testdata_EPSG25832.tif'\n",
    "warp = gdal.Warp(output_raster,input_raster,dstSRS='EPSG:25832')\n",
    "\n",
    "testdata = rd.LoadGDAL(\"./results/testdata_EPSG25832.tif\", no_data=-9999)\n",
    "\n",
    "## calculate slope, aspect, curvature\n",
    "slope = rd.TerrainAttribute(testdata, attrib='slope_degrees', zscale=1)\n",
    "aspect = rd.TerrainAttribute(testdata, attrib='aspect', zscale=1.0)\n",
    "# curvature = rd.TerrainAttribute(testdata, attrib='curvature', zscale=1)\n",
    "# planform_curvature = rd.TerrainAttribute(testdata, attrib='planform_curvature', zscale=1)\n",
    "profile_curvature = rd.TerrainAttribute(testdata, attrib='profile_curvature', zscale=1)\n",
    "\n",
    "## show results\n",
    "# rd.rdShow(slope, axes=False, cmap='gray', figsize=(8,5.5))\n",
    "# rd.rdShow(aspect, axes=False, cmap='gray', figsize=(8,5.5))\n",
    "# rd.rdShow(curvature, axes=False, cmap='gray', figsize=(8,5.5))\n",
    "# rd.rdShow(planform_curvature, axes=False, cmap='gray', figsize=(8,5.5))\n",
    "# rd.rdShow(profile_curvature, axes=False, cmap='gray', figsize=(8,5.5))\n",
    "\n",
    "## save results as tif\n",
    "rd.SaveGDAL(\"./results/slope.tif\", slope)\n",
    "rd.SaveGDAL(\"./results/aspect.tif\", aspect)\n",
    "# rd.SaveGDAL(\"./results/curvature.tif\", curvature)\n",
    "# rd.SaveGDAL(\"./results/planform_curvature.tif\", planform_curvature)\n",
    "rd.SaveGDAL(\"./results/profile_curvature.tif\", profile_curvature)\n",
    "\n"
   ]
  },
  {
   "cell_type": "code",
   "execution_count": null,
   "id": "9954f796",
   "metadata": {},
   "outputs": [],
   "source": [
    "## calculate slope with angles ranging from 28 to 54 degrees\n",
    "cmd = 'gdal_calc.py --calc=\"A*logical_and(A>=28,A<=54)\" --outfile=./results/slope_relevant.tif -A ./results/slope.tif --NoDataValue=0'\n",
    "os.system(cmd)\n",
    "\n",
    "# slope_relevant =  rd.LoadGDAL(\"slope_relevant.tif\", no_data=-9999)\n",
    "# rd.rdShow(slope_relevant, axes=False, cmap='gray', figsize=(8,5.5))\n",
    "\n",
    "## colorize relevant slope\n",
    "cmd1 = 'gdaldem color-relief ./results/slope_relevant.tif color_slope_gradient.txt ./results/slope_relevant_color.tif -nearest_color_entry -alpha'\n",
    "os.system(cmd1)\n",
    "\n",
    "## generate hillshade\n",
    "cmd2 = 'gdaldem hillshade ./results/testdata_EPSG25832.tif ./results/hillshade.tif'\n",
    "os.system(cmd2)\n",
    "\n",
    "## colorize aspect in cardinal directions N=green, E=red, S=violett, W=yellow\n",
    "cmd3 = 'gdaldem color-relief ./results/aspect.tif color_aspect_cardinal_directions.txt ./results/aspect_color.tif -nearest_color_entry'\n",
    "os.system(cmd3)\n",
    "\n",
    "## calculate profile curvature >0\n",
    "cmd4 = 'gdal_calc.py --calc=\"A*(A<0)\" --outfile=./results/profile_curvature_relevant.tif -A ./results/profile_curvature.tif --NoDataValue=0'\n",
    "os.system(cmd4)\n",
    "\n",
    "## combine profile_curvature_color with hillshade\n",
    "cmd5 = 'gdal_merge.py -separate -n -9999 -o ./results/new_rgb.tif ./results/profile_curvature_relevant.tif ./results/hillshade.tif'\n",
    "os.system(cmd5)"
   ]
  },
  {
   "cell_type": "code",
   "execution_count": null,
   "id": "fe31a890",
   "metadata": {},
   "outputs": [],
   "source": [
    "src = gdal.Open('./results/slope_relevant_color.tif')\n",
    "addlBand = gdal.Open('./results/hillshade.tif')\n",
    "newBand = addlBand.GetRasterBand(1).ReadAsArray()\n",
    "\n",
    "tmp = gdal.GetDriverByName('MEM').CreateCopy('', src, 0)\n",
    "# tmp.AddBand()\n",
    "tmp.GetRasterBand(4).WriteArray(newBand)\n",
    "\n",
    "dst = gdal.GetDriverByName('GTiff').CreateCopy('./results/combined_profCurv_hillsh.tif', tmp, 0)\n",
    "del dst"
   ]
  },
  {
   "cell_type": "code",
   "execution_count": null,
   "id": "60044a17",
   "metadata": {},
   "outputs": [],
   "source": [
    "## create vector polygons from relevant area\n",
    "cmd6 = 'gdal_polygonize.py ./results/slope_relevant.tif -b 1 ./results/slope_relevant.shp slope area'\n",
    "os.system(cmd6)\n",
    "\n",
    "## calculate area\n",
    "cmd7 = 'ogrinfo -sql \"SELECT SUM(OGR_GEOM_AREA) AS TOTAL_AREA FROM slope_relevant\" ./results/slope_relevant.shp'\n",
    "os.system(cmd7)\n",
    "\n",
    "os.popen('ogrinfo -sql \"SELECT SUM(OGR_GEOM_AREA) AS TOTAL_AREA FROM slope_relevant\" ./results/slope_relevant.shp').read()"
   ]
  },
  {
   "cell_type": "code",
   "execution_count": 4,
   "id": "3150ea02",
   "metadata": {},
   "outputs": [],
   "source": [
    "# Define the Path of the Slope tif for Slope analysis\n",
    "\n",
    "slope_analysis = \"./results/slope.tif\"\n"
   ]
  },
  {
   "cell_type": "code",
   "execution_count": 5,
   "id": "703779bf",
   "metadata": {},
   "outputs": [
    {
     "name": "stdout",
     "output_type": "stream",
     "text": [
      "<open DatasetReader name='./results/slope.tif' mode='r'>\n"
     ]
    }
   ],
   "source": [
    "dataset_slope = rasterio.open(slope_analysis)\n",
    "print(dataset_slope)"
   ]
  },
  {
   "cell_type": "code",
   "execution_count": 6,
   "id": "ed60f6b7",
   "metadata": {},
   "outputs": [],
   "source": [
    "# Define the Path of the DEM for DEM analysis\n",
    "\n",
    "dem_analysis = \"testdata.tif\""
   ]
  },
  {
   "cell_type": "code",
   "execution_count": 7,
   "id": "5c862955",
   "metadata": {},
   "outputs": [
    {
     "name": "stdout",
     "output_type": "stream",
     "text": [
      "<open DatasetReader name='testdata.tif' mode='r'>\n"
     ]
    }
   ],
   "source": [
    "dataset_dem = rasterio.open(dem_analysis)\n",
    "print(dataset_dem)"
   ]
  },
  {
   "cell_type": "code",
   "execution_count": 8,
   "id": "4a334abb",
   "metadata": {},
   "outputs": [
    {
     "data": {
      "text/markdown": [
       "**Properties of the Image with the filename:** ./results/slope.tif\n"
      ],
      "text/plain": [
       "<IPython.core.display.Markdown object>"
      ]
     },
     "metadata": {},
     "output_type": "display_data"
    },
    {
     "name": "stdout",
     "output_type": "stream",
     "text": [
      "Number of bands in image: 1\n",
      "\n",
      "Image size is: 1527 rows x 1980 columns\n",
      "\n",
      "Raster description: (None,)\n",
      "\n",
      "Raster driver: GTiff\n",
      "\n",
      "Image projection:\n",
      "EPSG:25832 \n",
      "\n",
      "Image geo-transform:\n",
      "| 69.95, 0.00, 743185.09|\n",
      "| 0.00,-69.95, 5328879.31|\n",
      "| 0.00, 0.00, 1.00|\n",
      "\n",
      "All raster metadata:\n",
      "{'driver': 'GTiff', 'dtype': 'float32', 'nodata': -9999.0, 'width': 1980, 'height': 1527, 'count': 1, 'crs': CRS.from_epsg(25832), 'transform': Affine(69.94775638389548, 0.0, 743185.090039658,\n",
      "       0.0, -69.94775638389548, 5328879.312031286)}\n",
      "\n",
      "\n"
     ]
    }
   ],
   "source": [
    "#Show propoerties of selected Raster\n",
    "img_name = dataset_slope.name\n",
    "printmd(\"**Properties of the Image with the filename:** {n}\\n\".format(n=img_name))\n",
    "\n",
    "num_bands = dataset_slope.count\n",
    "print('Number of bands in image: {n}\\n'.format(n=num_bands))\n",
    "\n",
    "rows, cols = dataset_slope.shape\n",
    "print('Image size is: {r} rows x {c} columns\\n'.format(r=rows, c=cols))\n",
    "\n",
    "desc = dataset_slope.descriptions\n",
    "metadata = dataset_slope.meta\n",
    "\n",
    "print('Raster description: {desc}\\n'.format(desc=desc))\n",
    "\n",
    "driver = dataset_slope.driver\n",
    "print('Raster driver: {d}\\n'.format(d=driver))\n",
    "\n",
    "proj = dataset_slope.crs\n",
    "print('Image projection:')\n",
    "print(proj, '\\n')\n",
    "\n",
    "gt = dataset_slope.transform\n",
    "\n",
    "print('Image geo-transform:\\n{gt}\\n'.format(gt=gt))\n",
    "\n",
    "print('All raster metadata:')\n",
    "print(metadata)\n",
    "print('\\n')"
   ]
  },
  {
   "cell_type": "code",
   "execution_count": 9,
   "id": "82b53fa8",
   "metadata": {},
   "outputs": [
    {
     "data": {
      "text/markdown": [
       "**Properties of the Image with the filename:** testdata.tif\n"
      ],
      "text/plain": [
       "<IPython.core.display.Markdown object>"
      ]
     },
     "metadata": {},
     "output_type": "display_data"
    },
    {
     "name": "stdout",
     "output_type": "stream",
     "text": [
      "Number of bands in image: 1\n",
      "\n",
      "Image size is: 1077 rows x 2124 columns\n",
      "\n",
      "Raster description: (None,)\n",
      "\n",
      "Raster driver: GTiff\n",
      "\n",
      "Image projection:\n",
      "EPSG:4326 \n",
      "\n",
      "Image geo-transform:\n",
      "| 0.00, 0.00, 12.26|\n",
      "| 0.00,-0.00, 48.00|\n",
      "| 0.00, 0.00, 1.00|\n",
      "\n",
      "All raster metadata:\n",
      "{'driver': 'GTiff', 'dtype': 'float32', 'nodata': -9999.0, 'width': 1980, 'height': 1527, 'count': 1, 'crs': CRS.from_epsg(25832), 'transform': Affine(69.94775638389548, 0.0, 743185.090039658,\n",
      "       0.0, -69.94775638389548, 5328879.312031286)}\n",
      "\n",
      "\n"
     ]
    }
   ],
   "source": [
    "#Show propoerties of selected Raster\n",
    "\n",
    "img_name = dataset_dem.name\n",
    "printmd(\"**Properties of the Image with the filename:** {n}\\n\".format(n=img_name))\n",
    "\n",
    "num_bands = dataset_dem.count\n",
    "print('Number of bands in image: {n}\\n'.format(n=num_bands))\n",
    "\n",
    "rows, cols = dataset_dem.shape\n",
    "print('Image size is: {r} rows x {c} columns\\n'.format(r=rows, c=cols))\n",
    "\n",
    "desc = dataset_dem.descriptions\n",
    "metadata = dataset_slope.meta\n",
    "\n",
    "print('Raster description: {desc}\\n'.format(desc=desc))\n",
    "\n",
    "driver = dataset_dem.driver\n",
    "print('Raster driver: {d}\\n'.format(d=driver))\n",
    "\n",
    "proj = dataset_dem.crs\n",
    "print('Image projection:')\n",
    "print(proj, '\\n')\n",
    "\n",
    "gt = dataset_dem.transform\n",
    "\n",
    "print('Image geo-transform:\\n{gt}\\n'.format(gt=gt))\n",
    "\n",
    "print('All raster metadata:')\n",
    "print(metadata)\n",
    "print('\\n')"
   ]
  },
  {
   "cell_type": "code",
   "execution_count": 10,
   "id": "c3250151",
   "metadata": {},
   "outputs": [
    {
     "data": {
      "text/markdown": [
       "**Statistics of Slope Raster:**"
      ],
      "text/plain": [
       "<IPython.core.display.Markdown object>"
      ]
     },
     "metadata": {},
     "output_type": "display_data"
    },
    {
     "name": "stdout",
     "output_type": "stream",
     "text": [
      "range of selected Band: 0.0 - 87.86485290527344\n",
      "mean of selected Band: 17.17755889892578\n",
      "stdev of selected Band: 14.374165534973145\n"
     ]
    }
   ],
   "source": [
    "#Input for the Raster Statistics\n",
    "nir = dataset_slope.read(1)\n",
    "\n",
    "#Generate Statistics\n",
    "band_mean = np.mean(nir) \n",
    "band_min = np.amin(nir)\n",
    "band_max = np.amax(nir)\n",
    "band_stddev = np.std(nir)\n",
    "\n",
    "printmd ('**Statistics of Slope Raster:**')\n",
    "print('range of selected Band: {minimum} - {maximum}'.format(maximum=band_max,\n",
    "                                                 minimum=band_min))\n",
    "print('mean of selected Band: {m}'.format(m=band_mean))\n",
    "print('stdev of selected Band: {s}'.format(s=band_stddev))"
   ]
  },
  {
   "cell_type": "code",
   "execution_count": 11,
   "id": "14bf80f1",
   "metadata": {},
   "outputs": [
    {
     "data": {
      "text/markdown": [
       "**Statistics of DEM Raster:**"
      ],
      "text/plain": [
       "<IPython.core.display.Markdown object>"
      ]
     },
     "metadata": {},
     "output_type": "display_data"
    },
    {
     "name": "stdout",
     "output_type": "stream",
     "text": [
      "range of selected Band: 372 - 3627\n",
      "mean of selected Band: 1171.8489365031903\n",
      "stdev of selected Band: 555.4342813725074\n"
     ]
    }
   ],
   "source": [
    "# Input for the Raster Statistics\n",
    "nir1 = dataset_dem.read(1)\n",
    "\n",
    "# Generate Statistics\n",
    "band_mean = np.mean(nir1) \n",
    "band_min = np.amin(nir1)\n",
    "band_max = np.amax(nir1)\n",
    "band_stddev = np.std(nir1)\n",
    "\n",
    "printmd ('**Statistics of DEM Raster:**')\n",
    "print('range of selected Band: {minimum} - {maximum}'.format(maximum=band_max,\n",
    "                                                 minimum=band_min))\n",
    "print('mean of selected Band: {m}'.format(m=band_mean))\n",
    "print('stdev of selected Band: {s}'.format(s=band_stddev))\n"
   ]
  },
  {
   "cell_type": "code",
   "execution_count": 12,
   "id": "9e8bfa2c",
   "metadata": {},
   "outputs": [
    {
     "data": {
      "image/png": "[encoded data removed]",
      "text/plain": [
       "<Figure size 720x432 with 1 Axes>"
      ]
     },
     "metadata": {
      "needs_background": "light"
     },
     "output_type": "display_data"
    }
   ],
   "source": [
    "# Define the input for the histogram\n",
    "dem_im = rxr.open_rasterio(dem_analysis, masked=True)\n",
    "\n",
    "# Plot the histogram\n",
    "f, ax = plt.subplots(figsize=(10, 6))\n",
    "dem_im.plot.hist(ax=ax,\n",
    "                       color=\"purple\",\n",
    "                       bins=30)\n",
    "ax.set(title=\"Distribution of Altitude\",\n",
    "       xlabel='Elevation (meters)',\n",
    "       ylabel='Frequency')\n",
    "plt.show()"
   ]
  },
  {
   "cell_type": "code",
   "execution_count": 13,
   "id": "65daae58",
   "metadata": {},
   "outputs": [
    {
     "data": {
      "image/png": "[encoded data removed]",
      "text/plain": [
       "<Figure size 720x432 with 1 Axes>"
      ]
     },
     "metadata": {
      "needs_background": "light"
     },
     "output_type": "display_data"
    }
   ],
   "source": [
    "# Define the input for the histogram\n",
    "slope_im = rxr.open_rasterio(slope_analysis, masked=True)\n",
    "\n",
    "# Plot the histogram\n",
    "f, ax = plt.subplots(figsize=(10, 6))\n",
    "slope_im.plot.hist(ax=ax,\n",
    "                       color=\"blue\",\n",
    "                       bins=30)\n",
    "ax.set(title=\"Distribution of Slope\",\n",
    "       xlabel='Slope (degrees)',\n",
    "       ylabel='Frequency')\n",
    "plt.show()"
   ]
  },
  {
   "cell_type": "code",
   "execution_count": 14,
   "id": "20e8db9f",
   "metadata": {},
   "outputs": [
    {
     "data": {
      "text/markdown": [
       "**Checking the selected Polygons for Zonal Statistic:**"
      ],
      "text/plain": [
       "<IPython.core.display.Markdown object>"
      ]
     },
     "metadata": {},
     "output_type": "display_data"
    },
    {
     "name": "stdout",
     "output_type": "stream",
     "text": [
      "   Shape_Leng  Shape_Area            Type  \\\n",
      "0    0.995679    0.024233          Forest   \n",
      "1    0.000000    0.000000  Populated Area   \n",
      "\n",
      "                                            geometry  \n",
      "0  POLYGON Z ((12.80574 47.63102 0.00000, 12.8212...  \n",
      "1  POLYGON Z ((13.16349 47.60323 0.00000, 13.1674...  \n"
     ]
    },
    {
     "data": {
      "image/png": "[encoded data removed]",
      "text/plain": [
       "<Figure size 432x288 with 1 Axes>"
      ]
     },
     "metadata": {
      "needs_background": "light"
     },
     "output_type": "display_data"
    }
   ],
   "source": [
    "#ZONAL STATISTICS 1: ZONAL STATISTICS FOR DEFINED STUDY AREAS / AREAZONAL.SHP\n",
    "\n",
    "# Before calculating the zonal statistics, checking if the slected polygons (zones) are valid. \n",
    "\n",
    "printmd ('**Checking the selected Polygons for Zonal Statistic:**')\n",
    "\n",
    "gdf = gpd.read_file('areazonal.shp')\n",
    "\n",
    "%matplotlib inline\n",
    "gdf.plot(column='Type', cmap=None, legend=True)\n",
    "\n",
    "print (gdf)"
   ]
  },
  {
   "cell_type": "code",
   "execution_count": 15,
   "id": "b356baa0",
   "metadata": {},
   "outputs": [
    {
     "data": {
      "text/markdown": [
       "**Zonal statistics for the study area in the raster with the filename:** testdata.tif\n"
      ],
      "text/plain": [
       "<IPython.core.display.Markdown object>"
      ]
     },
     "metadata": {},
     "output_type": "display_data"
    },
    {
     "data": {
      "text/plain": [
       "[{'min': 593.0,\n",
       "  'max': 2668.0,\n",
       "  'mean': 1530.4450845514475,\n",
       "  'count': 34890,\n",
       "  'median': 1576.0,\n",
       "  'range': 2075.0,\n",
       "  'nodata': 0.0},\n",
       " {'min': 465.0,\n",
       "  'max': 495.0,\n",
       "  'mean': 474.74545454545455,\n",
       "  'count': 55,\n",
       "  'median': 475.0,\n",
       "  'range': 30.0,\n",
       "  'nodata': 0.0}]"
      ]
     },
     "execution_count": 15,
     "metadata": {},
     "output_type": "execute_result"
    }
   ],
   "source": [
    "#calculate the actual zonal statistics (elevation in the study area)\n",
    "# once seperate for the two study ares\n",
    "\n",
    "printmd(\"**Zonal statistics, seperate for the two study areas in the raster with the filename:** {n}\\n\".format(n=img_name))\n",
    "\n",
    "stats1=zonal_stats(\"areazonal.shp\", \"testdata.tif\", nodata=np.nan,\n",
    "            stats=\"count min mean max median nodata range\")\n",
    "\n"
   ]
  },
  {
   "cell_type": "code",
   "execution_count": 21,
   "id": "d1321644",
   "metadata": {},
   "outputs": [
    {
     "data": {
      "text/markdown": [
       "**Zonal statistics for both study areas combined:**"
      ],
      "text/plain": [
       "<IPython.core.display.Markdown object>"
      ]
     },
     "metadata": {},
     "output_type": "display_data"
    },
    {
     "data": {
      "text/plain": [
       "[{'min': 465.0,\n",
       "  'max': 2668.0,\n",
       "  'mean': 1528.7835169552154,\n",
       "  'count': 34945,\n",
       "  'median': 1575.0,\n",
       "  'range': 2203.0,\n",
       "  'nodata': 0.0}]"
      ]
     },
     "execution_count": 21,
     "metadata": {},
     "output_type": "execute_result"
    }
   ],
   "source": [
    "#... and once for both areas combined\n",
    "\n",
    "# use the GeoSeries.unary_union Function of Geopanda to show the union of all geometries in the GeoSeries\n",
    "src1 = fiona.open('areazonal.shp')\n",
    "geoms1 = [shape(feature['geometry']) for feature in src1]\n",
    "\n",
    "m1 = gpd.GeoSeries(geoms1)\n",
    "\n",
    "union1 = m1.unary_union\n",
    "\n",
    "printmd(\"**Zonal statistics for both study areas combined:**\")\n",
    "zonal_stats([union1], \"testdata.tif\", nodata=np.nan,\n",
    "            stats=\"count min mean max median nodata range\")"
   ]
  },
  {
   "cell_type": "code",
   "execution_count": null,
   "id": "5526c396",
   "metadata": {
    "scrolled": false
   },
   "outputs": [],
   "source": [
    "#ZONAL STATISTICS 2: ZONAL STATISTICS FOR THE RESULTS/SLOPE_RELEVANT.SHP\n",
    "# Before calculating the zonal statistics, checking if the slected polygons (zones) are valid. \n",
    "\n",
    "printmd ('**Checking the selected Area for Zonal Statistic:**')\n",
    "\n",
    "gdf = gpd.read_file('results/slope_relevant.shp')\n",
    "\n",
    "%matplotlib inline\n",
    "gdf.plot(column='area', cmap=None, legend=True)\n",
    "\n",
    "print (gdf)"
   ]
  },
  {
   "cell_type": "code",
   "execution_count": null,
   "id": "8b08c61c",
   "metadata": {},
   "outputs": [],
   "source": [
    "# use the GeoSeries.unary_union Function of Geopanda to show the union of all geometries in the GeoSeries\n",
    "\n",
    "src = fiona.open('results/slope_relevant.shp')\n",
    "geoms = [shape(feature['geometry']) for feature in src]\n",
    "\n",
    "m = gpd.GeoSeries(geoms)\n",
    "\n",
    "union = m.unary_union"
   ]
  },
  {
   "cell_type": "code",
   "execution_count": null,
   "id": "2f4f4419",
   "metadata": {},
   "outputs": [],
   "source": [
    "#calculate the actual zonal statistics\n",
    "\n",
    "printmd(\"**Zonal statistics for the area with relevant slope values in the raster with the filename:** {n}\\n\".format(n=img_name))\n",
    "zonal_stats([union], \"testdata.tif\", nodata=np.nan,\n",
    "            stats=\"count min mean max median nodata range\")"
   ]
  },
  {
   "cell_type": "code",
   "execution_count": null,
   "id": "5a9647bf",
   "metadata": {},
   "outputs": [],
   "source": []
  }
 ],
 "metadata": {
  "kernelspec": {
   "display_name": "Python 3 (ipykernel)",
   "language": "python",
   "name": "python3"
  },
  "language_info": {
   "codemirror_mode": {
    "name": "ipython",
    "version": 3
   },
   "file_extension": ".py",
   "mimetype": "text/x-python",
   "name": "python",
   "nbconvert_exporter": "python",
   "pygments_lexer": "ipython3",
   "version": "3.10.5"
  }
 },
 "nbformat": 4,
 "nbformat_minor": 5
}
